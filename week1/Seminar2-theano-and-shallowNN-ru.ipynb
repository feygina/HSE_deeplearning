{
 "cells": [
  {
   "cell_type": "markdown",
   "metadata": {},
   "source": [
    "# Theano, Lasagne\n",
    "и с чем их едят\n",
    "\n",
    "Ещё не установили их - пока __```pip install theano```__ или __```conda install Theano```__, а после - установите"
   ]
  },
  {
   "cell_type": "markdown",
   "metadata": {},
   "source": [
    "# разминка\n",
    "* напиши на numpy функцию, которая считает сумму квадратов чисел от 0 до N, где N - аргумент\n",
    "* массив чисел от 0 до N - numpy.arange(N)"
   ]
  },
  {
   "cell_type": "code",
   "execution_count": 7,
   "metadata": {
    "collapsed": false
   },
   "outputs": [],
   "source": [
    "import numpy as np\n",
    "def sum_squares(N):\n",
    "    return np.sum(np.square(np.arange(N)))"
   ]
  },
  {
   "cell_type": "code",
   "execution_count": 5,
   "metadata": {
    "collapsed": false
   },
   "outputs": [
    {
     "name": "stdout",
     "output_type": "stream",
     "text": [
      "CPU times: user 520 ms, sys: 528 ms, total: 1.05 s\n",
      "Wall time: 1.1 s\n"
     ]
    },
    {
     "data": {
      "text/plain": [
       "662921401752298880"
      ]
     },
     "execution_count": 5,
     "metadata": {},
     "output_type": "execute_result"
    }
   ],
   "source": [
    "%%time\n",
    "sum_squares(10**8)"
   ]
  },
  {
   "cell_type": "markdown",
   "metadata": {},
   "source": [
    "# theano teaser\n",
    "\n",
    "Как сделать то же самое"
   ]
  },
  {
   "cell_type": "code",
   "execution_count": 6,
   "metadata": {
    "collapsed": false
   },
   "outputs": [],
   "source": [
    "import theano\n",
    "import theano.tensor as T"
   ]
  },
  {
   "cell_type": "code",
   "execution_count": 7,
   "metadata": {
    "collapsed": false
   },
   "outputs": [],
   "source": [
    "#будущий параметр функции\n",
    "N = T.scalar(\"a dimension\", dtype='int32')\n",
    "\n",
    "#рецепт получения суммы квадратов\n",
    "result = (T.arange(N)**2).sum()\n",
    "\n",
    "#компиляция функции \"сумма квадратов\" чисел от 0 до N\n",
    "sum_function = theano.function(inputs = [N], outputs=result)"
   ]
  },
  {
   "cell_type": "code",
   "execution_count": 8,
   "metadata": {
    "collapsed": false
   },
   "outputs": [
    {
     "name": "stdout",
     "output_type": "stream",
     "text": [
      "CPU times: user 303 ms, sys: 257 ms, total: 560 ms\n",
      "Wall time: 558 ms\n"
     ]
    },
    {
     "data": {
      "text/plain": [
       "array(662921401752298880)"
      ]
     },
     "execution_count": 8,
     "metadata": {},
     "output_type": "execute_result"
    }
   ],
   "source": [
    "%%time\n",
    "sum_function(10**8)"
   ]
  },
  {
   "cell_type": "markdown",
   "metadata": {},
   "source": [
    "# Как оно работает?\n",
    "__Если вы читаете это в аудитории - скорее всего прямо сейчас преподы объясняют то же самое__\n",
    "* Нужно написать \"рецепт\" получения выходов по входам\n",
    "* То же самое на заумном: нужно описать символический граф вычислений\n",
    "\n",
    "\n",
    "* 2 вида зверей - \"входы\" и \"преобразования\"\n",
    "* Оба могут быть числами, массивами, матрицами, тензорами и т.п.\n",
    "\n",
    "\n",
    "* Вход - это то аргумент функции. То место, на которое подставится аргумент вызове.\n",
    " * N - вход в примере выше\n",
    "\n",
    "\n",
    "* Преобразования - рецепты вычисления чего-то на основе входов и констант\n",
    " * (T.arange(N)^2).sum() - 3 последовательных преобразования N\n",
    " * Работают почти 1 в 1 как векторные операции в numpy\n",
    " * почти всё, что есть в numpy есть в theano tensor и называется так же\n",
    "   * np.mean -> T.mean\n",
    "   * np.arange -> T.arange\n",
    "   * np.cumsum -> T.cumsum\n",
    "   * и так далее...\n",
    "   * Совсем редко - бывает, что меняется название или синтаксис - нужно спросить у семинаристов или гугла\n",
    " \n",
    " \n",
    "Ничего не понятно? Сейчас исправим."
   ]
  },
  {
   "cell_type": "code",
   "execution_count": 9,
   "metadata": {
    "collapsed": false
   },
   "outputs": [],
   "source": [
    "#входы\n",
    "\n",
    "example_input_integer = T.scalar(\"вход - одно число(пример)\", dtype='float32')\n",
    "\n",
    "example_input_tensor = T.tensor4(\"вход - четырёхмерный тензор(пример)\")\n",
    "#не бойся, тензор нам не пригодится\n",
    "\n",
    "input_vector = T.vector(\"вход - вектор целых чисел\", dtype='int32')"
   ]
  },
  {
   "cell_type": "code",
   "execution_count": 10,
   "metadata": {
    "collapsed": false
   },
   "outputs": [],
   "source": [
    "#преобразования\n",
    "\n",
    "#поэлементное умножение\n",
    "double_the_vector = input_vector*2\n",
    "\n",
    "#поэлементный косинус\n",
    "elementwise_cosine = T.cos(input_vector)\n",
    "\n",
    "#разность квадрата каждого элемента и самого элемента\n",
    "vector_squares = input_vector**2 - input_vector"
   ]
  },
  {
   "cell_type": "code",
   "execution_count": 11,
   "metadata": {
    "collapsed": false
   },
   "outputs": [
    {
     "data": {
      "text/plain": [
       "Elemwise{mul,no_inplace}.0"
      ]
     },
     "execution_count": 11,
     "metadata": {},
     "output_type": "execute_result"
    }
   ],
   "source": [
    "double_the_vector"
   ]
  },
  {
   "cell_type": "code",
   "execution_count": 12,
   "metadata": {
    "collapsed": false
   },
   "outputs": [],
   "source": [
    "#теперь сам:\n",
    "#создай 2 вектора из чисел float32\n",
    "my_vector = T.vector(dtype='float32')\n",
    "my_vector2 = T.vector(dtype='float32')"
   ]
  },
  {
   "cell_type": "code",
   "execution_count": 13,
   "metadata": {
    "collapsed": false
   },
   "outputs": [],
   "source": [
    "#напиши преобразование, которое считает\n",
    "#(вектор 1)*(вектор 2) / (sin(вектор 1) +1)\n",
    "my_transformation = my_vector*my_vector2/(T.sin(my_vector) + 1)"
   ]
  },
  {
   "cell_type": "code",
   "execution_count": 14,
   "metadata": {
    "collapsed": false
   },
   "outputs": [
    {
     "name": "stdout",
     "output_type": "stream",
     "text": [
      "Elemwise{true_div,no_inplace}.0\n"
     ]
    }
   ],
   "source": [
    "print my_transformation\n",
    "#то, что получилась не чиселка - это нормально"
   ]
  },
  {
   "cell_type": "markdown",
   "metadata": {},
   "source": [
    "# Компиляция\n",
    "* До этого момента, мы использовали \"символические\" переменные\n",
    " * писали рецепт вычислений, но ничего не вычисляли\n",
    "* чтобы рецепт можно было использовать, его нужно скомпилировать"
   ]
  },
  {
   "cell_type": "code",
   "execution_count": 15,
   "metadata": {
    "collapsed": false
   },
   "outputs": [],
   "source": [
    "inputs = [my_vector, my_vector2]\n",
    "outputs = [my_transformation]\n",
    "\n",
    "# можно скомпилировать написанные нами преобразования как функцию\n",
    "my_function = theano.function(\n",
    "    inputs, \n",
    "    outputs,\n",
    "    allow_input_downcast=True #автоматически прводить типы (необязательно)\n",
    ")"
   ]
  },
  {
   "cell_type": "code",
   "execution_count": 16,
   "metadata": {
    "collapsed": false
   },
   "outputs": [
    {
     "name": "stdout",
     "output_type": "stream",
     "text": [
      "using python lists:\n",
      "[array([  2.1721766 ,   5.23752832,  15.77397728], dtype=float32)]\n",
      "\n",
      "using numpy arrays:\n",
      "[array([   0.        ,    2.77555895,    5.47030783,   14.02131271,\n",
      "         89.5477066 ,  676.25805664,   47.183918  ,   24.4084301 ,\n",
      "         23.68156242,   38.24041748], dtype=float32)]\n"
     ]
    }
   ],
   "source": [
    "#можно вызвать вот-так:\n",
    "print \"using python lists:\"\n",
    "print my_function([1,2,3], [4,5,6])\n",
    "print\n",
    "\n",
    "#а можно так. \n",
    "#К слову, ту тип float приводится к типу второго вектора\n",
    "print \"using numpy arrays:\"\n",
    "print my_function(np.arange(10), np.linspace(5, 6, 10, dtype='float'))"
   ]
  },
  {
   "cell_type": "markdown",
   "metadata": {},
   "source": [
    "# хинт для отладки\n",
    "* Если ваша функция большая, компиляция может отнять какое-то время.\n",
    "* Чтобы не ждать, можно посчитать выражение без компиляции\n",
    "* Вы экономите время 1 раз на компиляции, но сам код выполняется медленнее\n"
   ]
  },
  {
   "cell_type": "code",
   "execution_count": 17,
   "metadata": {
    "collapsed": false
   },
   "outputs": [
    {
     "name": "stdout",
     "output_type": "stream",
     "text": [
      "[  2.1721766    5.23752832  15.77397728]\n",
      "сумма 2 векторов [ 5.  7.  9.]\n",
      "форма первого вектора [3]\n"
     ]
    }
   ],
   "source": [
    "#словарик значений для входов\n",
    "my_function_inputs = {\n",
    "    my_vector:[1,2,3],\n",
    "    my_vector2:[4,5,6]\n",
    "}\n",
    "\n",
    "#вычислить без компиляции\n",
    "#если мы ничего не перепутали, \n",
    "#должно получиться точно то же, что и раньше\n",
    "print my_transformation.eval(my_function_inputs)\n",
    "\n",
    "\n",
    "#можно вычислять преобразования на ходу\n",
    "print \"сумма 2 векторов\", (my_vector + my_vector2).eval(my_function_inputs)\n",
    "\n",
    "#!ВАЖНО! если преобразование зависит только от части переменных,\n",
    "#остальные давать не надо\n",
    "print \"форма первого вектора\", my_vector.shape.eval({\n",
    "        my_vector:[1,2,3]\n",
    "    })"
   ]
  },
  {
   "cell_type": "markdown",
   "metadata": {},
   "source": [
    "* Для отладки желательно уменьшить масштаб задачи. Если вы планировали послать на вход вектор из 10^9 примеров, пошлите 10~100.\n",
    "* Если #ОЧЕНЬ нужно послать большой вектор, быстрее скомпилировать функцию обычным способом"
   ]
  },
  {
   "cell_type": "markdown",
   "metadata": {},
   "source": [
    "# Теперь сам\n",
    "__[2 балла]__"
   ]
  },
  {
   "cell_type": "code",
   "execution_count": 18,
   "metadata": {
    "collapsed": false
   },
   "outputs": [],
   "source": [
    "# Задание 1 - напиши и скомпилируй theano-функцию, которая считает среднеквадратичную ошибку двух векторов-входов\n",
    "# Вернуть нужно одно число - собственно, ошибку. Обновлять ничего не нужно\n",
    "\n",
    "vector_1 = T.vector(dtype='float32')\n",
    "vector_2 = T.vector(dtype='float32')\n",
    "\n",
    "mse_transformation = ((vector_1 - vector_2)**2).sum()/vector_1.shape\n",
    "\n",
    "inputs = [vector_1, vector_2]\n",
    "outputs = [mse_transformation]\n",
    "\n",
    "compute_mse = theano.function(\n",
    "    inputs,\n",
    "    outputs,\n",
    "    allow_input_downcast=True\n",
    ")"
   ]
  },
  {
   "cell_type": "code",
   "execution_count": 19,
   "metadata": {
    "collapsed": false
   },
   "outputs": [
    {
     "name": "stdout",
     "output_type": "stream",
     "text": [
      "All tests passed\n"
     ]
    }
   ],
   "source": [
    "#тесты\n",
    "from sklearn.metrics import mean_squared_error\n",
    "\n",
    "for n in [1, 5, 10, 10**3]:\n",
    "    \n",
    "    elems = [np.arange(n), np.arange(n, 0, -1), np.zeros(n),\n",
    "             np.ones(n), np.random.random(n), np.random.randint(100, size=n)]\n",
    "    \n",
    "    for el in elems:\n",
    "        for el_2 in elems:\n",
    "            true_mse = np.array(mean_squared_error(el, el_2))\n",
    "            my_mse = compute_mse(el, el_2)\n",
    "            if not np.allclose(true_mse, my_mse):\n",
    "                print 'Wrong result:'\n",
    "                print 'mse(%s,%s)'%(el, el_2)\n",
    "                print \"should be: %f, but your function returned %f\"%(true_mse, my_mse)\n",
    "                raise ValueError, \"Что-то не так\"\n",
    "\n",
    "print \"All tests passed\""
   ]
  },
  {
   "cell_type": "markdown",
   "metadata": {},
   "source": [
    "# Shared variables\n",
    "\n",
    "* Входы и преобразования - части рецепта. \n",
    " * Они существуют только во время вызова функции.\n",
    "\n",
    "\n",
    "* Shared переменные - всегда остаются в памяти\n",
    " * им можно поменять значение \n",
    "   * (но не внутри символического графа. Об этом позже)\n",
    " * их можно включить в граф вычислений\n",
    " \n",
    " \n",
    "* хинт - в таких переменных удобно хранить параметры и гиперпараметры\n",
    " * например, веса нейронки или learning rate, если вы его меняете"
   ]
  },
  {
   "cell_type": "code",
   "execution_count": 20,
   "metadata": {
    "collapsed": false
   },
   "outputs": [],
   "source": [
    "#cоздадим расшаренную перменную\n",
    "shared_vector_1 = theano.shared(np.ones(10, dtype='float64'))"
   ]
  },
  {
   "cell_type": "code",
   "execution_count": 21,
   "metadata": {
    "collapsed": false
   },
   "outputs": [
    {
     "name": "stdout",
     "output_type": "stream",
     "text": [
      "initial value [ 1.  1.  1.  1.  1.  1.  1.  1.  1.  1.]\n"
     ]
    }
   ],
   "source": [
    "#получить (численное) значение переменной\n",
    "print \"initial value\", shared_vector_1.get_value()"
   ]
  },
  {
   "cell_type": "code",
   "execution_count": 22,
   "metadata": {
    "collapsed": false
   },
   "outputs": [
    {
     "name": "stdout",
     "output_type": "stream",
     "text": [
      "new value [ 0.  1.  2.  3.  4.]\n"
     ]
    }
   ],
   "source": [
    "#задать новое значение\n",
    "shared_vector_1.set_value(np.arange(5))\n",
    "\n",
    "#проверим значение\n",
    "print \"new value\", shared_vector_1.get_value()\n",
    "\n",
    "#Заметь, что раньше это был вектор из 10 элементов, а сейчас - из 5. \n",
    "#Если граф при этом остался выполним, это сработает."
   ]
  },
  {
   "cell_type": "markdown",
   "metadata": {},
   "source": [
    "# Теперь сам"
   ]
  },
  {
   "cell_type": "code",
   "execution_count": 23,
   "metadata": {
    "collapsed": false
   },
   "outputs": [],
   "source": [
    "#напиши рецепт (преобразование), которое считает произведение(поэллементное) shared_vector на input_scalar\n",
    "#скомпилируй это в функцию от input_scalar\n",
    "\n",
    "input_scalar = T.scalar('coefficient', dtype='float32')\n",
    "shared_vector_1.set_value(np.arange(5))\n",
    "\n",
    "scalar_times_shared = shared_vector_1*input_scalar\n",
    "\n",
    "inputs = [input_scalar]\n",
    "outputs = [scalar_times_shared]\n",
    "shared_times_n = theano.function(inputs, outputs)"
   ]
  },
  {
   "cell_type": "code",
   "execution_count": 24,
   "metadata": {
    "collapsed": false
   },
   "outputs": [
    {
     "name": "stdout",
     "output_type": "stream",
     "text": [
      "shared: [ 0.  1.  2.  3.  4.]\n",
      "shared_times_n(5) [array([  0.,   5.,  10.,  15.,  20.])]\n",
      "shared_times_n(-0.5) [array([-0. , -0.5, -1. , -1.5, -2. ])]\n"
     ]
    }
   ],
   "source": [
    "print \"shared:\", shared_vector_1.get_value()\n",
    "\n",
    "print \"shared_times_n(5)\",shared_times_n(5)\n",
    "\n",
    "print \"shared_times_n(-0.5)\",shared_times_n(-0.5)"
   ]
  },
  {
   "cell_type": "code",
   "execution_count": 25,
   "metadata": {
    "collapsed": false
   },
   "outputs": [
    {
     "name": "stdout",
     "output_type": "stream",
     "text": [
      "shared: [-1.  0.  1.]\n",
      "shared_times_n(5) [array([-5.,  0.,  5.])]\n",
      "shared_times_n(-0.5) [array([ 0.5, -0. , -0.5])]\n"
     ]
    }
   ],
   "source": [
    "#поменяем значение shared_vector_1\n",
    "shared_vector_1.set_value([-1, 0, 1])\n",
    "print \"shared:\", shared_vector_1.get_value()\n",
    "\n",
    "print \"shared_times_n(5)\", shared_times_n(5)\n",
    "\n",
    "print \"shared_times_n(-0.5)\", shared_times_n(-0.5)"
   ]
  },
  {
   "cell_type": "markdown",
   "metadata": {},
   "source": [
    "# T.grad, самое вкусное\n",
    "* theano умеет само считать производные. Все, которые существуют.\n",
    "* Производные считаются в символическом, а не численном виде\n",
    "\n",
    "Ограничения\n",
    "* За раз можно считать производную __скалярной__ функции по одной или нескольким скалярным или векторным аргументам\n",
    "* Функция должна на всех этапах своего вычисления иметь тип float32 или float64 (т.к. на множестве целых чисел производная не имеет смысл)"
   ]
  },
  {
   "cell_type": "code",
   "execution_count": 26,
   "metadata": {
    "collapsed": false
   },
   "outputs": [],
   "source": [
    "my_scalar = T.scalar(name='input', dtype='float64')\n",
    "\n",
    "scalar_squared = T.sum(my_scalar**2)\n",
    "\n",
    "#производная v_squared по my_vector\n",
    "derivative = T.grad(scalar_squared, my_scalar)\n",
    "\n",
    "fun = theano.function([my_scalar], scalar_squared)\n",
    "grad = theano.function([my_scalar], derivative)"
   ]
  },
  {
   "cell_type": "code",
   "execution_count": 27,
   "metadata": {
    "collapsed": false
   },
   "outputs": [
    {
     "data": {
      "text/plain": [
       "<matplotlib.legend.Legend at 0x10ebac4d0>"
      ]
     },
     "execution_count": 27,
     "metadata": {},
     "output_type": "execute_result"
    },
    {
     "data": {
      "image/png": "[encoded data removed]",
      "text/plain": [
       "<matplotlib.figure.Figure at 0x1126fe6d0>"
      ]
     },
     "metadata": {},
     "output_type": "display_data"
    }
   ],
   "source": [
    "import matplotlib.pyplot as plt\n",
    "%matplotlib inline\n",
    "\n",
    "\n",
    "x = np.linspace(-3, 3)\n",
    "x_squared = map(fun, x)\n",
    "x_squared_der = map(grad, x)\n",
    "\n",
    "plt.plot(x, x_squared, label=\"x^2\")\n",
    "plt.plot(x, x_squared_der, label=\"derivative\")\n",
    "plt.legend()"
   ]
  },
  {
   "cell_type": "markdown",
   "metadata": {},
   "source": [
    "# теперь сам"
   ]
  },
  {
   "cell_type": "code",
   "execution_count": 28,
   "metadata": {
    "collapsed": false
   },
   "outputs": [],
   "source": [
    "my_vector = T.vector('float64')\n",
    "\n",
    "#посчитай производные этой функции по my_scalar и my_vector\n",
    "#warning! Не пытайся понять физический смысл этой функции\n",
    "weird_psychotic_function = ((my_vector + my_scalar)**(1 + T.var(my_vector)) + 1./T.arcsinh(my_scalar)).mean()/(my_scalar**2 +1) + 0.01*T.sin(2*my_scalar**1.5)*(T.sum(my_vector)* my_scalar**2)*T.exp((my_scalar - 4)**2)/(1+T.exp((my_scalar - 4)**2))*(1.-(T.exp(-(my_scalar - 4)**2))/(1+T.exp(-(my_scalar-4)**2)))**2\n",
    "\n",
    "\n",
    "der_by_scalar, der_by_vector = T.grad(weird_psychotic_function, my_scalar), T.grad(weird_psychotic_function, my_vector)\n",
    "\n",
    "compute_weird_function = theano.function([my_scalar, my_vector], weird_psychotic_function)\n",
    "compute_der_by_scalar = theano.function([my_scalar, my_vector], der_by_scalar)"
   ]
  },
  {
   "cell_type": "code",
   "execution_count": 29,
   "metadata": {
    "collapsed": false
   },
   "outputs": [
    {
     "data": {
      "text/plain": [
       "<matplotlib.legend.Legend at 0x114b605d0>"
      ]
     },
     "execution_count": 29,
     "metadata": {},
     "output_type": "execute_result"
    },
    {
     "data": {
      "image/png": "[encoded data removed]",
      "text/plain": [
       "<matplotlib.figure.Figure at 0x114b606d0>"
      ]
     },
     "metadata": {},
     "output_type": "display_data"
    }
   ],
   "source": [
    "#график функции и твоей производной\n",
    "vector_0 = [1, 2, 3]\n",
    "\n",
    "scalar_space = np.linspace(0, 7)\n",
    "\n",
    "y = [compute_weird_function(x, vector_0) for x in scalar_space]\n",
    "plt.plot(scalar_space, y, label='function')\n",
    "y_der_by_scalar = [compute_der_by_scalar(x, vector_0) for x in scalar_space]\n",
    "plt.plot(scalar_space, y_der_by_scalar, label='derivative')\n",
    "plt.grid();plt.legend()"
   ]
  },
  {
   "cell_type": "markdown",
   "metadata": {},
   "source": [
    "# Последний штрих - Updates\n",
    "\n",
    "* updates - это способ изменять значения shared переменных каждый раз В КОНЦЕ вызова функции\n",
    "\n",
    "* фактически, это словарь {shared_переменная: рецепт нового значения}, который добавляется в функцию при компиляции\n",
    "\n",
    "Например,"
   ]
  },
  {
   "cell_type": "code",
   "execution_count": 30,
   "metadata": {
    "collapsed": false
   },
   "outputs": [],
   "source": [
    "input_scalar = T.scalar('coefficient', dtype='float32')\n",
    "shared_vector_1 = theano.shared(np.ones(10, dtype='float64'))\n",
    "\n",
    "scalar_times_shared = shared_vector_1*input_scalar"
   ]
  },
  {
   "cell_type": "code",
   "execution_count": 31,
   "metadata": {
    "collapsed": false
   },
   "outputs": [],
   "source": [
    "#умножим shared вектор на число и сохраним новое значение обратно в этот shared вектор\n",
    "\n",
    "inputs = [input_scalar]\n",
    "outputs = [scalar_times_shared] #вернём вектор, умноженный на число\n",
    "\n",
    "my_updates = {\n",
    "    shared_vector_1:scalar_times_shared #и этот же результат запишем в shared_vector_1\n",
    "}\n",
    "\n",
    "compute_and_save = theano.function(inputs, outputs, updates=my_updates)"
   ]
  },
  {
   "cell_type": "code",
   "execution_count": 32,
   "metadata": {
    "collapsed": false
   },
   "outputs": [
    {
     "name": "stdout",
     "output_type": "stream",
     "text": [
      "initial shared value: [ 0.  1.  2.  3.  4.]\n",
      "compute_and_save(2) returns [array([ 0.,  2.,  4.,  6.,  8.])]\n",
      "new shared value: [ 0.  2.  4.  6.  8.]\n"
     ]
    }
   ],
   "source": [
    "shared_vector_1.set_value(np.arange(5))\n",
    "\n",
    "#изначальное значение shared_vector_1\n",
    "print \"initial shared value:\" , shared_vector_1.get_value()\n",
    "\n",
    "# теперь вычислим функцию (значение shared_vector_1 при этом поменяется)\n",
    "print \"compute_and_save(2) returns\", compute_and_save(2)\n",
    "\n",
    "#проверим, что в shared_vector_1\n",
    "print \"new shared value:\" , shared_vector_1.get_value()"
   ]
  },
  {
   "cell_type": "markdown",
   "metadata": {},
   "source": [
    "# Логистическая регрессия\n",
    "__[4 балла]__\n",
    "\n",
    "Задача - собрать свою собственную логистическую регрессию с блэкджеком и кроссэнтропией.\n",
    "\n",
    "Что нам потребуется:\n",
    "* Веса лучше хранить в shared-переменной\n",
    "* Данные можно передавать как input\n",
    "* Нужно 2 функции:\n",
    " * train_function(X,y) - возвращает ошибку и изменяет веса на 1 шаг по граиденту __(через updates)__\n",
    " * predict_fun(X) - возвращает предсказанные ответы (\"y\") по данным"
   ]
  },
  {
   "cell_type": "code",
   "execution_count": 33,
   "metadata": {
    "collapsed": false
   },
   "outputs": [
    {
     "name": "stdout",
     "output_type": "stream",
     "text": [
      "y [форма - (360,)]: [0 1 0 1 0 1 0 0 1 1]\n",
      "X [форма - (360, 64)]:\n",
      "[[  0.   0.   5.  13.   9.   1.   0.   0.   0.   0.  13.  15.  10.  15.\n",
      "    5.   0.   0.   3.  15.   2.   0.  11.   8.   0.   0.   4.  12.   0.\n",
      "    0.   8.   8.   0.   0.   5.   8.   0.   0.   9.   8.   0.   0.   4.\n",
      "   11.   0.   1.  12.   7.   0.   0.   2.  14.   5.  10.  12.   0.   0.\n",
      "    0.   0.   6.  13.  10.   0.   0.   0.]\n",
      " [  0.   0.   0.  12.  13.   5.   0.   0.   0.   0.   0.  11.  16.   9.\n",
      "    0.   0.   0.   0.   3.  15.  16.   6.   0.   0.   0.   7.  15.  16.\n",
      "   16.   2.   0.   0.   0.   0.   1.  16.  16.   3.   0.   0.   0.   0.\n",
      "    1.  16.  16.   6.   0.   0.   0.   0.   1.  16.  16.   6.   0.   0.\n",
      "    0.   0.   0.  11.  16.  10.   0.   0.]\n",
      " [  0.   0.   1.   9.  15.  11.   0.   0.   0.   0.  11.  16.   8.  14.\n",
      "    6.   0.   0.   2.  16.  10.   0.   9.   9.   0.   0.   1.  16.   4.\n",
      "    0.   8.   8.   0.   0.   4.  16.   4.   0.   8.   8.   0.   0.   1.\n",
      "   16.   5.   1.  11.   3.   0.   0.   0.  12.  12.  10.  10.   0.   0.\n",
      "    0.   0.   1.  10.  13.   3.   0.   0.]]\n"
     ]
    }
   ],
   "source": [
    "from sklearn.datasets import load_digits\n",
    "mnist = load_digits(2)\n",
    "\n",
    "X, y = mnist.data, mnist.target\n",
    "\n",
    "\n",
    "print \"y [форма - %s]:\"%(str(y.shape)), y[:10]\n",
    "\n",
    "print \"X [форма - %s]:\"%(str(X.shape))\n",
    "print X[:3]"
   ]
  },
  {
   "cell_type": "code",
   "execution_count": 34,
   "metadata": {
    "collapsed": false
   },
   "outputs": [],
   "source": [
    "# переменные и входы\n",
    "shared_weights = theano.shared(np.zeros(X.shape[1], dtype='float64'))\n",
    "input_X = T.matrix(dtype='float64')\n",
    "input_y = T.vector(dtype='int64')"
   ]
  },
  {
   "cell_type": "code",
   "execution_count": 35,
   "metadata": {
    "collapsed": false
   },
   "outputs": [],
   "source": [
    "# predicted_y = <предсказание логрегрессии на input_X (вероятность класса)>\n",
    "predicted_y = T.dot(input_X, shared_weights)\n",
    "\n",
    "loss = T.mean(T.log(1. + T.exp(-input_y*T.dot(input_X, shared_weights))))\n",
    "\n",
    "# grad = <градиент loss по весам модели>\n",
    "grad = T.grad(loss, shared_weights)"
   ]
  },
  {
   "cell_type": "code",
   "execution_count": 36,
   "metadata": {
    "collapsed": false
   },
   "outputs": [],
   "source": [
    "updates = {\n",
    "    shared_weights: shared_weights - 0.01*grad\n",
    "}\n",
    "\n",
    "# train_function = <функция, которая по X и Y возвращает ошибку и обновляет веса>\n",
    "train_function = theano.function([input_X, input_y], loss, updates=updates)\n",
    "\n",
    "# predict_function = <функция, которая по X считает предсказание для y>\n",
    "prediction_function = theano.function([input_X], predicted_y)"
   ]
  },
  {
   "cell_type": "code",
   "execution_count": 37,
   "metadata": {
    "collapsed": false
   },
   "outputs": [],
   "source": [
    "from sklearn.cross_validation import train_test_split\n",
    "X_train, X_test, y_train, y_test = train_test_split(X, y)"
   ]
  },
  {
   "cell_type": "code",
   "execution_count": 38,
   "metadata": {
    "collapsed": false
   },
   "outputs": [
    {
     "name": "stdout",
     "output_type": "stream",
     "text": [
      "loss at iter 0: 0.6931\n",
      "train auc: 0.932385708798\n",
      "test auc: 0.933333333333\n",
      "loss at iter 1: 0.3417\n",
      "train auc: 0.932385708798\n",
      "test auc: 0.933333333333\n",
      "loss at iter 2: 0.3417\n",
      "train auc: 0.932385708798\n",
      "test auc: 0.933333333333\n",
      "loss at iter 3: 0.3417\n",
      "train auc: 0.932495472257\n",
      "test auc: 0.933333333333\n",
      "loss at iter 4: 0.3417\n",
      "train auc: 0.932605235717\n",
      "test auc: 0.933333333333\n",
      "resulting weights:\n"
     ]
    },
    {
     "data": {
      "text/plain": [
       "<matplotlib.colorbar.Colorbar at 0x117969910>"
      ]
     },
     "execution_count": 38,
     "metadata": {},
     "output_type": "execute_result"
    },
    {
     "data": {
      "image/png": "[encoded data removed]",
      "text/plain": [
       "<matplotlib.figure.Figure at 0x114b69750>"
      ]
     },
     "metadata": {},
     "output_type": "display_data"
    }
   ],
   "source": [
    "from sklearn.metrics import roc_auc_score\n",
    "\n",
    "for i in range(5):\n",
    "    loss_i = train_function(X_train, y_train)\n",
    "    print \"loss at iter %i: %.4f\"%(i, loss_i)\n",
    "    print \"train auc:\", roc_auc_score(y_train, prediction_function(X_train))\n",
    "    print \"test auc:\", roc_auc_score(y_test, prediction_function(X_test))\n",
    "\n",
    "    \n",
    "print \"resulting weights:\"\n",
    "plt.imshow(shared_weights.get_value().reshape(8, -1))\n",
    "plt.colorbar()"
   ]
  },
  {
   "cell_type": "markdown",
   "metadata": {},
   "source": [
    "# Нейроночка\n",
    "__[базовая часть - 4 балла]__\n",
    "\n",
    "Ваше финальное задание - сделать свою первую нейронку [почти] из спичек и желудей (theano).\n",
    "\n",
    "В этот раз распознавание цифр зашло чуть дальше:\n",
    "* картинки 28x28\n",
    "* 10 классов\n",
    "* 50k+ картинок только в обучающей выборке\n",
    "\n",
    "Вам не нужно (но можно) создавать монстров на 152 слоя, не нужно ничего сворачивать - достаточно сделать простую нейросеть с 1 скрытым и 1 выходным слоем, которая будет работать лучше логистической регрессии.\n",
    "\n",
    "В конце есть шаблон отчёта - его желательно вести по ходу работ (ну или хотя бы не забыть).\n",
    "\n",
    "__[bonus score]__\n",
    "Далее, если ваша сетка уже __побила результаты линейной модели__, а запал остался - можно попробовать улучшить результат ещё дальше. \n",
    "Челлендж - превзойти рубежи 95%/97.5%/98.5% точности на тесте __без использования свёрток__.\n",
    "\n",
    "__СПОЙЛЕР!__ В конце тетрадки есть несколько советов по реализации. Если вы чувствуете в себе силы выстрелить в ногу самостоятельно - ваша воля, но наткнувшись на неразрешимые проблемы будьте добры прочитать \"хвост\" тетрадки, прежде, чем писать на почту."
   ]
  },
  {
   "cell_type": "code",
   "execution_count": 19,
   "metadata": {
    "collapsed": false
   },
   "outputs": [
    {
     "name": "stdout",
     "output_type": "stream",
     "text": [
      "(50000, 1, 28, 28) (50000,)\n"
     ]
    }
   ],
   "source": [
    "from mnist import load_dataset\n",
    "\n",
    "X_train, y_train, X_val, y_val, X_test, y_test = load_dataset()\n",
    "\n",
    "print X_train.shape, y_train.shape"
   ]
  },
  {
   "cell_type": "code",
   "execution_count": 9,
   "metadata": {
    "collapsed": false
   },
   "outputs": [
    {
     "data": {
      "text/plain": [
       "<matplotlib.image.AxesImage at 0x112fff090>"
      ]
     },
     "execution_count": 9,
     "metadata": {},
     "output_type": "execute_result"
    },
    {
     "data": {
      "image/png": "[encoded data removed]",
      "text/plain": [
       "<matplotlib.figure.Figure at 0x10df98c90>"
      ]
     },
     "metadata": {},
     "output_type": "display_data"
    }
   ],
   "source": [
    "import matplotlib.pyplot as plt\n",
    "%matplotlib inline\n",
    "\n",
    "plt.imshow(X_train[1, 0])"
   ]
  },
  {
   "cell_type": "code",
   "execution_count": 23,
   "metadata": {
    "collapsed": false
   },
   "outputs": [
    {
     "name": "stdout",
     "output_type": "stream",
     "text": [
      "The autoreload extension is already loaded. To reload it, use:\n",
      "  %reload_ext autoreload\n"
     ]
    }
   ],
   "source": [
    "%load_ext autoreload\n",
    "\n",
    "%autoreload 2"
   ]
  },
  {
   "cell_type": "code",
   "execution_count": 34,
   "metadata": {
    "collapsed": false,
    "scrolled": false
   },
   "outputs": [
    {
     "name": "stdout",
     "output_type": "stream",
     "text": [
      "... building the model\n",
      "... training the model\n",
      "epoch 1, minibatch 83/83, validation error 12.458333 %\n",
      "     epoch 1, minibatch 83/83, test error of best model 12.375000 %\n",
      "epoch 2, minibatch 83/83, validation error 11.010417 %\n",
      "     epoch 2, minibatch 83/83, test error of best model 10.958333 %\n",
      "epoch 3, minibatch 83/83, validation error 10.312500 %\n",
      "     epoch 3, minibatch 83/83, test error of best model 10.312500 %\n",
      "epoch 4, minibatch 83/83, validation error 9.875000 %\n",
      "     epoch 4, minibatch 83/83, test error of best model 9.833333 %\n",
      "epoch 5, minibatch 83/83, validation error 9.562500 %\n",
      "     epoch 5, minibatch 83/83, test error of best model 9.479167 %\n",
      "epoch 6, minibatch 83/83, validation error 9.322917 %\n",
      "     epoch 6, minibatch 83/83, test error of best model 9.291667 %\n",
      "epoch 7, minibatch 83/83, validation error 9.187500 %\n",
      "     epoch 7, minibatch 83/83, test error of best model 9.000000 %\n",
      "epoch 8, minibatch 83/83, validation error 8.989583 %\n",
      "     epoch 8, minibatch 83/83, test error of best model 8.958333 %\n",
      "epoch 9, minibatch 83/83, validation error 8.937500 %\n",
      "     epoch 9, minibatch 83/83, test error of best model 8.812500 %\n",
      "epoch 10, minibatch 83/83, validation error 8.750000 %\n",
      "     epoch 10, minibatch 83/83, test error of best model 8.666667 %\n",
      "epoch 11, minibatch 83/83, validation error 8.666667 %\n",
      "     epoch 11, minibatch 83/83, test error of best model 8.520833 %\n",
      "epoch 12, minibatch 83/83, validation error 8.583333 %\n",
      "     epoch 12, minibatch 83/83, test error of best model 8.416667 %\n",
      "epoch 13, minibatch 83/83, validation error 8.489583 %\n",
      "     epoch 13, minibatch 83/83, test error of best model 8.291667 %\n",
      "epoch 14, minibatch 83/83, validation error 8.427083 %\n",
      "     epoch 14, minibatch 83/83, test error of best model 8.281250 %\n",
      "epoch 15, minibatch 83/83, validation error 8.354167 %\n",
      "     epoch 15, minibatch 83/83, test error of best model 8.270833 %\n",
      "epoch 16, minibatch 83/83, validation error 8.302083 %\n",
      "     epoch 16, minibatch 83/83, test error of best model 8.239583 %\n",
      "epoch 17, minibatch 83/83, validation error 8.250000 %\n",
      "     epoch 17, minibatch 83/83, test error of best model 8.177083 %\n",
      "epoch 18, minibatch 83/83, validation error 8.229167 %\n",
      "     epoch 18, minibatch 83/83, test error of best model 8.062500 %\n",
      "epoch 19, minibatch 83/83, validation error 8.260417 %\n",
      "epoch 20, minibatch 83/83, validation error 8.260417 %\n",
      "epoch 21, minibatch 83/83, validation error 8.208333 %\n",
      "     epoch 21, minibatch 83/83, test error of best model 7.947917 %\n",
      "epoch 22, minibatch 83/83, validation error 8.187500 %\n",
      "     epoch 22, minibatch 83/83, test error of best model 7.927083 %\n",
      "epoch 23, minibatch 83/83, validation error 8.156250 %\n",
      "     epoch 23, minibatch 83/83, test error of best model 7.958333 %\n",
      "epoch 24, minibatch 83/83, validation error 8.114583 %\n",
      "     epoch 24, minibatch 83/83, test error of best model 7.947917 %\n",
      "epoch 25, minibatch 83/83, validation error 8.093750 %\n",
      "     epoch 25, minibatch 83/83, test error of best model 7.947917 %\n",
      "epoch 26, minibatch 83/83, validation error 8.104167 %\n",
      "epoch 27, minibatch 83/83, validation error 8.104167 %\n",
      "epoch 28, minibatch 83/83, validation error 8.052083 %\n",
      "     epoch 28, minibatch 83/83, test error of best model 7.843750 %\n",
      "epoch 29, minibatch 83/83, validation error 8.052083 %\n",
      "epoch 30, minibatch 83/83, validation error 8.031250 %\n",
      "     epoch 30, minibatch 83/83, test error of best model 7.843750 %\n",
      "epoch 31, minibatch 83/83, validation error 8.010417 %\n",
      "     epoch 31, minibatch 83/83, test error of best model 7.833333 %\n",
      "epoch 32, minibatch 83/83, validation error 7.979167 %\n",
      "     epoch 32, minibatch 83/83, test error of best model 7.812500 %\n",
      "epoch 33, minibatch 83/83, validation error 7.947917 %\n",
      "     epoch 33, minibatch 83/83, test error of best model 7.739583 %\n",
      "epoch 34, minibatch 83/83, validation error 7.875000 %\n",
      "     epoch 34, minibatch 83/83, test error of best model 7.729167 %\n",
      "epoch 35, minibatch 83/83, validation error 7.885417 %\n",
      "epoch 36, minibatch 83/83, validation error 7.843750 %\n",
      "     epoch 36, minibatch 83/83, test error of best model 7.697917 %\n",
      "epoch 37, minibatch 83/83, validation error 7.802083 %\n",
      "     epoch 37, minibatch 83/83, test error of best model 7.635417 %\n",
      "epoch 38, minibatch 83/83, validation error 7.812500 %\n",
      "epoch 39, minibatch 83/83, validation error 7.812500 %\n",
      "epoch 40, minibatch 83/83, validation error 7.822917 %\n",
      "epoch 41, minibatch 83/83, validation error 7.791667 %\n",
      "     epoch 41, minibatch 83/83, test error of best model 7.625000 %\n",
      "epoch 42, minibatch 83/83, validation error 7.770833 %\n",
      "     epoch 42, minibatch 83/83, test error of best model 7.614583 %\n",
      "epoch 43, minibatch 83/83, validation error 7.750000 %\n",
      "     epoch 43, minibatch 83/83, test error of best model 7.593750 %\n",
      "epoch 44, minibatch 83/83, validation error 7.739583 %\n",
      "     epoch 44, minibatch 83/83, test error of best model 7.593750 %\n",
      "epoch 45, minibatch 83/83, validation error 7.739583 %\n",
      "epoch 46, minibatch 83/83, validation error 7.739583 %\n",
      "epoch 47, minibatch 83/83, validation error 7.739583 %\n",
      "epoch 48, minibatch 83/83, validation error 7.708333 %\n",
      "     epoch 48, minibatch 83/83, test error of best model 7.583333 %\n",
      "epoch 49, minibatch 83/83, validation error 7.677083 %\n",
      "     epoch 49, minibatch 83/83, test error of best model 7.572917 %\n",
      "epoch 50, minibatch 83/83, validation error 7.677083 %\n",
      "epoch 51, minibatch 83/83, validation error 7.677083 %\n",
      "epoch 52, minibatch 83/83, validation error 7.656250 %\n",
      "     epoch 52, minibatch 83/83, test error of best model 7.541667 %\n",
      "epoch 53, minibatch 83/83, validation error 7.656250 %\n",
      "epoch 54, minibatch 83/83, validation error 7.635417 %\n",
      "     epoch 54, minibatch 83/83, test error of best model 7.520833 %\n",
      "epoch 55, minibatch 83/83, validation error 7.635417 %\n",
      "epoch 56, minibatch 83/83, validation error 7.635417 %\n",
      "epoch 57, minibatch 83/83, validation error 7.604167 %\n",
      "     epoch 57, minibatch 83/83, test error of best model 7.489583 %\n",
      "epoch 58, minibatch 83/83, validation error 7.583333 %\n",
      "     epoch 58, minibatch 83/83, test error of best model 7.458333 %\n",
      "epoch 59, minibatch 83/83, validation error 7.572917 %\n",
      "     epoch 59, minibatch 83/83, test error of best model 7.468750 %\n",
      "epoch 60, minibatch 83/83, validation error 7.572917 %\n",
      "epoch 61, minibatch 83/83, validation error 7.583333 %\n",
      "epoch 62, minibatch 83/83, validation error 7.572917 %\n",
      "     epoch 62, minibatch 83/83, test error of best model 7.520833 %\n",
      "epoch 63, minibatch 83/83, validation error 7.562500 %\n",
      "     epoch 63, minibatch 83/83, test error of best model 7.510417 %\n",
      "epoch 64, minibatch 83/83, validation error 7.572917 %\n",
      "epoch 65, minibatch 83/83, validation error 7.562500 %\n",
      "epoch 66, minibatch 83/83, validation error 7.552083 %\n",
      "     epoch 66, minibatch 83/83, test error of best model 7.520833 %\n",
      "epoch 67, minibatch 83/83, validation error 7.552083 %\n",
      "epoch 68, minibatch 83/83, validation error 7.531250 %\n",
      "     epoch 68, minibatch 83/83, test error of best model 7.520833 %\n",
      "epoch 69, minibatch 83/83, validation error 7.531250 %\n",
      "epoch 70, minibatch 83/83, validation error 7.510417 %\n",
      "     epoch 70, minibatch 83/83, test error of best model 7.500000 %\n",
      "epoch 71, minibatch 83/83, validation error 7.520833 %\n",
      "epoch 72, minibatch 83/83, validation error 7.510417 %\n",
      "epoch 73, minibatch 83/83, validation error 7.500000 %\n",
      "     epoch 73, minibatch 83/83, test error of best model 7.489583 %\n",
      "Optimization complete with best validation score of 7.500000 %, with test performance 7.489583 %\n",
      "The code run for 74 epochs, with 8.651992 epochs/sec\n"
     ]
    }
   ],
   "source": [
    "from learning_logistic_regression import *\n",
    "\n",
    "\n",
    "sgd_optimization_mnist()"
   ]
  },
  {
   "cell_type": "code",
   "execution_count": 35,
   "metadata": {
    "collapsed": false
   },
   "outputs": [
    {
     "name": "stdout",
     "output_type": "stream",
     "text": [
      "Predicted values for the first 10 examples in test set:\n",
      "[7 2 1 0 4 1 4 9 6 9]\n"
     ]
    }
   ],
   "source": [
    "predict()"
   ]
  },
  {
   "cell_type": "code",
   "execution_count": 36,
   "metadata": {
    "collapsed": false,
    "scrolled": false
   },
   "outputs": [
    {
     "name": "stdout",
     "output_type": "stream",
     "text": [
      "... building the model\n",
      "... training\n",
      "epoch 1, minibatch 2500/2500, validation error 9.610000 %\n",
      "     epoch 1, minibatch 2500/2500, test error of best model 10.080000 %\n",
      "epoch 2, minibatch 2500/2500, validation error 8.590000 %\n",
      "     epoch 2, minibatch 2500/2500, test error of best model 8.740000 %\n",
      "epoch 3, minibatch 2500/2500, validation error 7.990000 %\n",
      "     epoch 3, minibatch 2500/2500, test error of best model 8.140000 %\n",
      "epoch 4, minibatch 2500/2500, validation error 7.610000 %\n",
      "     epoch 4, minibatch 2500/2500, test error of best model 7.740000 %\n",
      "epoch 5, minibatch 2500/2500, validation error 7.280000 %\n",
      "     epoch 5, minibatch 2500/2500, test error of best model 7.550000 %\n",
      "epoch 6, minibatch 2500/2500, validation error 6.970000 %\n",
      "     epoch 6, minibatch 2500/2500, test error of best model 7.140000 %\n",
      "epoch 7, minibatch 2500/2500, validation error 6.620000 %\n",
      "     epoch 7, minibatch 2500/2500, test error of best model 6.990000 %\n",
      "epoch 8, minibatch 2500/2500, validation error 6.210000 %\n",
      "     epoch 8, minibatch 2500/2500, test error of best model 6.700000 %\n",
      "epoch 9, minibatch 2500/2500, validation error 5.930000 %\n",
      "     epoch 9, minibatch 2500/2500, test error of best model 6.420000 %\n",
      "epoch 10, minibatch 2500/2500, validation error 5.610000 %\n",
      "     epoch 10, minibatch 2500/2500, test error of best model 6.090000 %\n",
      "epoch 11, minibatch 2500/2500, validation error 5.290000 %\n",
      "     epoch 11, minibatch 2500/2500, test error of best model 5.760000 %\n",
      "epoch 12, minibatch 2500/2500, validation error 4.950000 %\n",
      "     epoch 12, minibatch 2500/2500, test error of best model 5.540000 %\n",
      "epoch 13, minibatch 2500/2500, validation error 4.730000 %\n",
      "     epoch 13, minibatch 2500/2500, test error of best model 5.330000 %\n",
      "epoch 14, minibatch 2500/2500, validation error 4.590000 %\n",
      "     epoch 14, minibatch 2500/2500, test error of best model 5.180000 %\n",
      "epoch 15, minibatch 2500/2500, validation error 4.370000 %\n",
      "     epoch 15, minibatch 2500/2500, test error of best model 5.020000 %\n",
      "epoch 16, minibatch 2500/2500, validation error 4.210000 %\n",
      "     epoch 16, minibatch 2500/2500, test error of best model 4.790000 %\n",
      "epoch 17, minibatch 2500/2500, validation error 4.070000 %\n",
      "     epoch 17, minibatch 2500/2500, test error of best model 4.570000 %\n",
      "epoch 18, minibatch 2500/2500, validation error 3.930000 %\n",
      "     epoch 18, minibatch 2500/2500, test error of best model 4.420000 %\n",
      "epoch 19, minibatch 2500/2500, validation error 3.800000 %\n",
      "     epoch 19, minibatch 2500/2500, test error of best model 4.260000 %\n",
      "epoch 20, minibatch 2500/2500, validation error 3.690000 %\n",
      "     epoch 20, minibatch 2500/2500, test error of best model 4.150000 %\n",
      "epoch 21, minibatch 2500/2500, validation error 3.630000 %\n",
      "     epoch 21, minibatch 2500/2500, test error of best model 3.970000 %\n",
      "epoch 22, minibatch 2500/2500, validation error 3.500000 %\n",
      "     epoch 22, minibatch 2500/2500, test error of best model 3.890000 %\n",
      "epoch 23, minibatch 2500/2500, validation error 3.400000 %\n",
      "     epoch 23, minibatch 2500/2500, test error of best model 3.770000 %\n",
      "epoch 24, minibatch 2500/2500, validation error 3.360000 %\n",
      "     epoch 24, minibatch 2500/2500, test error of best model 3.680000 %\n",
      "epoch 25, minibatch 2500/2500, validation error 3.230000 %\n",
      "     epoch 25, minibatch 2500/2500, test error of best model 3.600000 %\n",
      "epoch 26, minibatch 2500/2500, validation error 3.230000 %\n",
      "epoch 27, minibatch 2500/2500, validation error 3.230000 %\n",
      "epoch 28, minibatch 2500/2500, validation error 3.150000 %\n",
      "     epoch 28, minibatch 2500/2500, test error of best model 3.380000 %\n",
      "epoch 29, minibatch 2500/2500, validation error 3.100000 %\n",
      "     epoch 29, minibatch 2500/2500, test error of best model 3.290000 %\n",
      "epoch 30, minibatch 2500/2500, validation error 3.110000 %\n",
      "epoch 31, minibatch 2500/2500, validation error 3.060000 %\n",
      "     epoch 31, minibatch 2500/2500, test error of best model 3.190000 %\n",
      "epoch 32, minibatch 2500/2500, validation error 3.020000 %\n",
      "     epoch 32, minibatch 2500/2500, test error of best model 3.140000 %\n",
      "epoch 33, minibatch 2500/2500, validation error 2.970000 %\n",
      "     epoch 33, minibatch 2500/2500, test error of best model 3.070000 %\n",
      "epoch 34, minibatch 2500/2500, validation error 2.910000 %\n",
      "     epoch 34, minibatch 2500/2500, test error of best model 3.000000 %\n",
      "epoch 35, minibatch 2500/2500, validation error 2.900000 %\n",
      "     epoch 35, minibatch 2500/2500, test error of best model 2.970000 %\n",
      "epoch 36, minibatch 2500/2500, validation error 2.860000 %\n",
      "     epoch 36, minibatch 2500/2500, test error of best model 2.920000 %\n",
      "epoch 37, minibatch 2500/2500, validation error 2.850000 %\n",
      "     epoch 37, minibatch 2500/2500, test error of best model 2.880000 %\n",
      "epoch 38, minibatch 2500/2500, validation error 2.800000 %\n",
      "     epoch 38, minibatch 2500/2500, test error of best model 2.860000 %\n",
      "epoch 39, minibatch 2500/2500, validation error 2.740000 %\n",
      "     epoch 39, minibatch 2500/2500, test error of best model 2.820000 %\n",
      "epoch 40, minibatch 2500/2500, validation error 2.720000 %\n",
      "     epoch 40, minibatch 2500/2500, test error of best model 2.770000 %\n",
      "epoch 41, minibatch 2500/2500, validation error 2.710000 %\n",
      "     epoch 41, minibatch 2500/2500, test error of best model 2.750000 %\n",
      "epoch 42, minibatch 2500/2500, validation error 2.670000 %\n",
      "     epoch 42, minibatch 2500/2500, test error of best model 2.730000 %\n",
      "epoch 43, minibatch 2500/2500, validation error 2.630000 %\n",
      "     epoch 43, minibatch 2500/2500, test error of best model 2.690000 %\n",
      "epoch 44, minibatch 2500/2500, validation error 2.590000 %\n",
      "     epoch 44, minibatch 2500/2500, test error of best model 2.670000 %\n",
      "epoch 45, minibatch 2500/2500, validation error 2.570000 %\n",
      "     epoch 45, minibatch 2500/2500, test error of best model 2.630000 %\n",
      "epoch 46, minibatch 2500/2500, validation error 2.500000 %\n",
      "     epoch 46, minibatch 2500/2500, test error of best model 2.580000 %\n",
      "epoch 47, minibatch 2500/2500, validation error 2.470000 %\n",
      "     epoch 47, minibatch 2500/2500, test error of best model 2.570000 %\n",
      "epoch 48, minibatch 2500/2500, validation error 2.440000 %\n",
      "     epoch 48, minibatch 2500/2500, test error of best model 2.530000 %\n",
      "epoch 49, minibatch 2500/2500, validation error 2.420000 %\n",
      "     epoch 49, minibatch 2500/2500, test error of best model 2.540000 %\n",
      "epoch 50, minibatch 2500/2500, validation error 2.420000 %\n",
      "epoch 51, minibatch 2500/2500, validation error 2.390000 %\n",
      "     epoch 51, minibatch 2500/2500, test error of best model 2.520000 %\n",
      "epoch 52, minibatch 2500/2500, validation error 2.400000 %\n",
      "epoch 53, minibatch 2500/2500, validation error 2.390000 %\n",
      "epoch 54, minibatch 2500/2500, validation error 2.350000 %\n",
      "     epoch 54, minibatch 2500/2500, test error of best model 2.480000 %\n",
      "epoch 55, minibatch 2500/2500, validation error 2.310000 %\n",
      "     epoch 55, minibatch 2500/2500, test error of best model 2.490000 %\n",
      "epoch 56, minibatch 2500/2500, validation error 2.310000 %\n",
      "epoch 57, minibatch 2500/2500, validation error 2.300000 %\n",
      "     epoch 57, minibatch 2500/2500, test error of best model 2.480000 %\n",
      "epoch 58, minibatch 2500/2500, validation error 2.300000 %\n",
      "epoch 59, minibatch 2500/2500, validation error 2.290000 %\n",
      "     epoch 59, minibatch 2500/2500, test error of best model 2.430000 %\n",
      "epoch 60, minibatch 2500/2500, validation error 2.260000 %\n",
      "     epoch 60, minibatch 2500/2500, test error of best model 2.420000 %\n",
      "epoch 61, minibatch 2500/2500, validation error 2.240000 %\n",
      "     epoch 61, minibatch 2500/2500, test error of best model 2.420000 %\n",
      "epoch 62, minibatch 2500/2500, validation error 2.220000 %\n",
      "     epoch 62, minibatch 2500/2500, test error of best model 2.420000 %\n",
      "epoch 63, minibatch 2500/2500, validation error 2.210000 %\n",
      "     epoch 63, minibatch 2500/2500, test error of best model 2.410000 %\n",
      "epoch 64, minibatch 2500/2500, validation error 2.200000 %\n",
      "     epoch 64, minibatch 2500/2500, test error of best model 2.410000 %\n",
      "epoch 65, minibatch 2500/2500, validation error 2.200000 %\n",
      "epoch 66, minibatch 2500/2500, validation error 2.190000 %\n",
      "     epoch 66, minibatch 2500/2500, test error of best model 2.380000 %\n",
      "epoch 67, minibatch 2500/2500, validation error 2.200000 %\n",
      "epoch 68, minibatch 2500/2500, validation error 2.180000 %\n",
      "     epoch 68, minibatch 2500/2500, test error of best model 2.390000 %\n",
      "epoch 69, minibatch 2500/2500, validation error 2.170000 %\n",
      "     epoch 69, minibatch 2500/2500, test error of best model 2.350000 %\n",
      "epoch 70, minibatch 2500/2500, validation error 2.170000 %\n",
      "epoch 71, minibatch 2500/2500, validation error 2.140000 %\n",
      "     epoch 71, minibatch 2500/2500, test error of best model 2.340000 %\n",
      "epoch 72, minibatch 2500/2500, validation error 2.130000 %\n",
      "     epoch 72, minibatch 2500/2500, test error of best model 2.320000 %\n",
      "epoch 73, minibatch 2500/2500, validation error 2.110000 %\n",
      "     epoch 73, minibatch 2500/2500, test error of best model 2.330000 %\n",
      "epoch 74, minibatch 2500/2500, validation error 2.120000 %\n",
      "epoch 75, minibatch 2500/2500, validation error 2.110000 %\n",
      "epoch 76, minibatch 2500/2500, validation error 2.110000 %\n",
      "epoch 77, minibatch 2500/2500, validation error 2.110000 %\n",
      "epoch 78, minibatch 2500/2500, validation error 2.120000 %\n",
      "epoch 79, minibatch 2500/2500, validation error 2.120000 %\n",
      "epoch 80, minibatch 2500/2500, validation error 2.100000 %\n",
      "     epoch 80, minibatch 2500/2500, test error of best model 2.280000 %\n",
      "epoch 81, minibatch 2500/2500, validation error 2.100000 %\n",
      "epoch 82, minibatch 2500/2500, validation error 2.110000 %\n",
      "epoch 83, minibatch 2500/2500, validation error 2.100000 %\n",
      "epoch 84, minibatch 2500/2500, validation error 2.120000 %\n",
      "epoch 85, minibatch 2500/2500, validation error 2.120000 %\n",
      "epoch 86, minibatch 2500/2500, validation error 2.130000 %\n",
      "epoch 87, minibatch 2500/2500, validation error 2.120000 %\n",
      "epoch 88, minibatch 2500/2500, validation error 2.120000 %\n",
      "epoch 89, minibatch 2500/2500, validation error 2.120000 %\n",
      "epoch 90, minibatch 2500/2500, validation error 2.120000 %\n",
      "epoch 91, minibatch 2500/2500, validation error 2.120000 %\n",
      "epoch 92, minibatch 2500/2500, validation error 2.120000 %\n",
      "epoch 93, minibatch 2500/2500, validation error 2.130000 %\n",
      "epoch 94, minibatch 2500/2500, validation error 2.110000 %\n",
      "epoch 95, minibatch 2500/2500, validation error 2.110000 %\n",
      "epoch 96, minibatch 2500/2500, validation error 2.110000 %\n",
      "epoch 97, minibatch 2500/2500, validation error 2.120000 %\n",
      "epoch 98, minibatch 2500/2500, validation error 2.110000 %\n",
      "epoch 99, minibatch 2500/2500, validation error 2.090000 %\n",
      "     epoch 99, minibatch 2500/2500, test error of best model 2.190000 %\n",
      "epoch 100, minibatch 2500/2500, validation error 2.090000 %\n",
      "epoch 101, minibatch 2500/2500, validation error 2.090000 %\n",
      "epoch 102, minibatch 2500/2500, validation error 2.070000 %\n",
      "     epoch 102, minibatch 2500/2500, test error of best model 2.170000 %\n",
      "epoch 103, minibatch 2500/2500, validation error 2.070000 %\n",
      "epoch 104, minibatch 2500/2500, validation error 2.060000 %\n",
      "     epoch 104, minibatch 2500/2500, test error of best model 2.160000 %\n",
      "epoch 105, minibatch 2500/2500, validation error 2.050000 %\n",
      "     epoch 105, minibatch 2500/2500, test error of best model 2.150000 %\n",
      "epoch 106, minibatch 2500/2500, validation error 2.040000 %\n",
      "     epoch 106, minibatch 2500/2500, test error of best model 2.160000 %\n",
      "epoch 107, minibatch 2500/2500, validation error 2.040000 %\n",
      "epoch 108, minibatch 2500/2500, validation error 2.040000 %\n",
      "epoch 109, minibatch 2500/2500, validation error 2.040000 %\n",
      "epoch 110, minibatch 2500/2500, validation error 2.040000 %\n",
      "epoch 111, minibatch 2500/2500, validation error 2.050000 %\n",
      "epoch 112, minibatch 2500/2500, validation error 2.030000 %\n",
      "     epoch 112, minibatch 2500/2500, test error of best model 2.140000 %\n",
      "epoch 113, minibatch 2500/2500, validation error 2.030000 %\n",
      "epoch 114, minibatch 2500/2500, validation error 2.020000 %\n",
      "     epoch 114, minibatch 2500/2500, test error of best model 2.140000 %\n",
      "epoch 115, minibatch 2500/2500, validation error 2.020000 %\n",
      "epoch 116, minibatch 2500/2500, validation error 2.020000 %\n",
      "epoch 117, minibatch 2500/2500, validation error 2.020000 %\n",
      "epoch 118, minibatch 2500/2500, validation error 2.010000 %\n",
      "     epoch 118, minibatch 2500/2500, test error of best model 2.170000 %\n",
      "epoch 119, minibatch 2500/2500, validation error 2.020000 %\n",
      "epoch 120, minibatch 2500/2500, validation error 2.020000 %\n",
      "epoch 121, minibatch 2500/2500, validation error 2.040000 %\n",
      "epoch 122, minibatch 2500/2500, validation error 2.030000 %\n",
      "epoch 123, minibatch 2500/2500, validation error 2.030000 %\n",
      "epoch 124, minibatch 2500/2500, validation error 2.020000 %\n",
      "epoch 125, minibatch 2500/2500, validation error 2.010000 %\n",
      "epoch 126, minibatch 2500/2500, validation error 2.000000 %\n",
      "     epoch 126, minibatch 2500/2500, test error of best model 2.140000 %\n",
      "epoch 127, minibatch 2500/2500, validation error 2.000000 %\n",
      "epoch 128, minibatch 2500/2500, validation error 1.990000 %\n",
      "     epoch 128, minibatch 2500/2500, test error of best model 2.150000 %\n",
      "epoch 129, minibatch 2500/2500, validation error 1.990000 %\n",
      "epoch 130, minibatch 2500/2500, validation error 1.980000 %\n",
      "     epoch 130, minibatch 2500/2500, test error of best model 2.150000 %\n",
      "epoch 131, minibatch 2500/2500, validation error 1.980000 %\n",
      "epoch 132, minibatch 2500/2500, validation error 1.980000 %\n",
      "epoch 133, minibatch 2500/2500, validation error 1.980000 %\n",
      "epoch 134, minibatch 2500/2500, validation error 1.980000 %\n",
      "epoch 135, minibatch 2500/2500, validation error 1.980000 %\n",
      "epoch 136, minibatch 2500/2500, validation error 1.980000 %\n",
      "epoch 137, minibatch 2500/2500, validation error 1.980000 %\n",
      "epoch 138, minibatch 2500/2500, validation error 1.970000 %\n",
      "     epoch 138, minibatch 2500/2500, test error of best model 2.160000 %\n",
      "epoch 139, minibatch 2500/2500, validation error 1.970000 %\n",
      "epoch 140, minibatch 2500/2500, validation error 1.960000 %\n",
      "     epoch 140, minibatch 2500/2500, test error of best model 2.150000 %\n",
      "epoch 141, minibatch 2500/2500, validation error 1.960000 %\n",
      "epoch 142, minibatch 2500/2500, validation error 1.960000 %\n",
      "epoch 143, minibatch 2500/2500, validation error 1.960000 %\n",
      "epoch 144, minibatch 2500/2500, validation error 1.960000 %\n",
      "epoch 145, minibatch 2500/2500, validation error 1.970000 %\n",
      "epoch 146, minibatch 2500/2500, validation error 1.960000 %\n",
      "epoch 147, minibatch 2500/2500, validation error 1.970000 %\n",
      "epoch 148, minibatch 2500/2500, validation error 1.960000 %\n",
      "epoch 149, minibatch 2500/2500, validation error 1.970000 %\n",
      "epoch 150, minibatch 2500/2500, validation error 1.970000 %\n",
      "epoch 151, minibatch 2500/2500, validation error 1.960000 %\n",
      "epoch 152, minibatch 2500/2500, validation error 1.960000 %\n",
      "epoch 153, minibatch 2500/2500, validation error 1.960000 %\n",
      "epoch 154, minibatch 2500/2500, validation error 1.970000 %\n",
      "epoch 155, minibatch 2500/2500, validation error 1.970000 %\n",
      "epoch 156, minibatch 2500/2500, validation error 1.970000 %\n",
      "epoch 157, minibatch 2500/2500, validation error 1.970000 %\n",
      "epoch 158, minibatch 2500/2500, validation error 1.960000 %\n",
      "epoch 159, minibatch 2500/2500, validation error 1.960000 %\n",
      "epoch 160, minibatch 2500/2500, validation error 1.960000 %\n",
      "epoch 161, minibatch 2500/2500, validation error 1.960000 %\n",
      "epoch 162, minibatch 2500/2500, validation error 1.960000 %\n",
      "epoch 163, minibatch 2500/2500, validation error 1.960000 %\n",
      "epoch 164, minibatch 2500/2500, validation error 1.960000 %\n",
      "epoch 165, minibatch 2500/2500, validation error 1.960000 %\n",
      "epoch 166, minibatch 2500/2500, validation error 1.950000 %\n",
      "     epoch 166, minibatch 2500/2500, test error of best model 2.150000 %\n",
      "epoch 167, minibatch 2500/2500, validation error 1.950000 %\n",
      "epoch 168, minibatch 2500/2500, validation error 1.950000 %\n",
      "epoch 169, minibatch 2500/2500, validation error 1.950000 %\n",
      "epoch 170, minibatch 2500/2500, validation error 1.950000 %\n",
      "epoch 171, minibatch 2500/2500, validation error 1.950000 %\n",
      "epoch 172, minibatch 2500/2500, validation error 1.950000 %\n",
      "epoch 173, minibatch 2500/2500, validation error 1.940000 %\n",
      "     epoch 173, minibatch 2500/2500, test error of best model 2.120000 %\n",
      "epoch 174, minibatch 2500/2500, validation error 1.940000 %\n",
      "epoch 175, minibatch 2500/2500, validation error 1.940000 %\n",
      "epoch 176, minibatch 2500/2500, validation error 1.940000 %\n",
      "epoch 177, minibatch 2500/2500, validation error 1.940000 %\n",
      "epoch 178, minibatch 2500/2500, validation error 1.930000 %\n",
      "     epoch 178, minibatch 2500/2500, test error of best model 2.130000 %\n",
      "epoch 179, minibatch 2500/2500, validation error 1.920000 %\n",
      "     epoch 179, minibatch 2500/2500, test error of best model 2.130000 %\n",
      "epoch 180, minibatch 2500/2500, validation error 1.920000 %\n",
      "epoch 181, minibatch 2500/2500, validation error 1.920000 %\n",
      "epoch 182, minibatch 2500/2500, validation error 1.920000 %\n",
      "epoch 183, minibatch 2500/2500, validation error 1.920000 %\n",
      "epoch 184, minibatch 2500/2500, validation error 1.930000 %\n",
      "epoch 185, minibatch 2500/2500, validation error 1.930000 %\n",
      "epoch 186, minibatch 2500/2500, validation error 1.930000 %\n",
      "epoch 187, minibatch 2500/2500, validation error 1.930000 %\n",
      "epoch 188, minibatch 2500/2500, validation error 1.930000 %\n",
      "epoch 189, minibatch 2500/2500, validation error 1.930000 %\n",
      "epoch 190, minibatch 2500/2500, validation error 1.930000 %\n",
      "epoch 191, minibatch 2500/2500, validation error 1.930000 %\n",
      "epoch 192, minibatch 2500/2500, validation error 1.930000 %\n",
      "epoch 193, minibatch 2500/2500, validation error 1.930000 %\n",
      "epoch 194, minibatch 2500/2500, validation error 1.930000 %\n",
      "epoch 195, minibatch 2500/2500, validation error 1.930000 %\n",
      "epoch 196, minibatch 2500/2500, validation error 1.930000 %\n",
      "epoch 197, minibatch 2500/2500, validation error 1.930000 %\n",
      "epoch 198, minibatch 2500/2500, validation error 1.930000 %\n",
      "epoch 199, minibatch 2500/2500, validation error 1.930000 %\n",
      "epoch 200, minibatch 2500/2500, validation error 1.930000 %\n",
      "epoch 201, minibatch 2500/2500, validation error 1.930000 %\n",
      "epoch 202, minibatch 2500/2500, validation error 1.930000 %\n",
      "epoch 203, minibatch 2500/2500, validation error 1.930000 %\n",
      "epoch 204, minibatch 2500/2500, validation error 1.930000 %\n",
      "epoch 205, minibatch 2500/2500, validation error 1.930000 %\n",
      "epoch 206, minibatch 2500/2500, validation error 1.930000 %\n",
      "epoch 207, minibatch 2500/2500, validation error 1.930000 %\n",
      "epoch 208, minibatch 2500/2500, validation error 1.930000 %\n",
      "epoch 209, minibatch 2500/2500, validation error 1.930000 %\n",
      "epoch 210, minibatch 2500/2500, validation error 1.930000 %\n",
      "epoch 211, minibatch 2500/2500, validation error 1.930000 %\n",
      "epoch 212, minibatch 2500/2500, validation error 1.930000 %\n",
      "epoch 213, minibatch 2500/2500, validation error 1.930000 %\n",
      "epoch 214, minibatch 2500/2500, validation error 1.930000 %\n",
      "epoch 215, minibatch 2500/2500, validation error 1.930000 %\n",
      "epoch 216, minibatch 2500/2500, validation error 1.930000 %\n",
      "epoch 217, minibatch 2500/2500, validation error 1.930000 %\n",
      "epoch 218, minibatch 2500/2500, validation error 1.930000 %\n",
      "epoch 219, minibatch 2500/2500, validation error 1.930000 %\n",
      "epoch 220, minibatch 2500/2500, validation error 1.930000 %\n",
      "epoch 221, minibatch 2500/2500, validation error 1.930000 %\n",
      "epoch 222, minibatch 2500/2500, validation error 1.930000 %\n",
      "epoch 223, minibatch 2500/2500, validation error 1.930000 %\n",
      "epoch 224, minibatch 2500/2500, validation error 1.930000 %\n",
      "epoch 225, minibatch 2500/2500, validation error 1.930000 %\n",
      "epoch 226, minibatch 2500/2500, validation error 1.920000 %\n",
      "epoch 227, minibatch 2500/2500, validation error 1.920000 %\n",
      "epoch 228, minibatch 2500/2500, validation error 1.920000 %\n",
      "epoch 229, minibatch 2500/2500, validation error 1.920000 %\n",
      "epoch 230, minibatch 2500/2500, validation error 1.910000 %\n",
      "     epoch 230, minibatch 2500/2500, test error of best model 2.060000 %\n",
      "epoch 231, minibatch 2500/2500, validation error 1.910000 %\n",
      "epoch 232, minibatch 2500/2500, validation error 1.910000 %\n",
      "epoch 233, minibatch 2500/2500, validation error 1.910000 %\n",
      "epoch 234, minibatch 2500/2500, validation error 1.910000 %\n",
      "epoch 235, minibatch 2500/2500, validation error 1.910000 %\n",
      "epoch 236, minibatch 2500/2500, validation error 1.910000 %\n",
      "epoch 237, minibatch 2500/2500, validation error 1.910000 %\n",
      "epoch 238, minibatch 2500/2500, validation error 1.910000 %\n",
      "epoch 239, minibatch 2500/2500, validation error 1.910000 %\n",
      "epoch 240, minibatch 2500/2500, validation error 1.910000 %\n",
      "epoch 241, minibatch 2500/2500, validation error 1.910000 %\n",
      "epoch 242, minibatch 2500/2500, validation error 1.910000 %\n",
      "epoch 243, minibatch 2500/2500, validation error 1.910000 %\n",
      "epoch 244, minibatch 2500/2500, validation error 1.910000 %\n",
      "epoch 245, minibatch 2500/2500, validation error 1.910000 %\n",
      "epoch 246, minibatch 2500/2500, validation error 1.910000 %\n",
      "epoch 247, minibatch 2500/2500, validation error 1.910000 %\n",
      "epoch 248, minibatch 2500/2500, validation error 1.910000 %\n",
      "epoch 249, minibatch 2500/2500, validation error 1.910000 %\n",
      "epoch 250, minibatch 2500/2500, validation error 1.910000 %\n",
      "epoch 251, minibatch 2500/2500, validation error 1.910000 %\n",
      "epoch 252, minibatch 2500/2500, validation error 1.910000 %\n",
      "epoch 253, minibatch 2500/2500, validation error 1.910000 %\n",
      "epoch 254, minibatch 2500/2500, validation error 1.910000 %\n",
      "epoch 255, minibatch 2500/2500, validation error 1.910000 %\n",
      "epoch 256, minibatch 2500/2500, validation error 1.910000 %\n",
      "epoch 257, minibatch 2500/2500, validation error 1.910000 %\n",
      "epoch 258, minibatch 2500/2500, validation error 1.910000 %\n",
      "epoch 259, minibatch 2500/2500, validation error 1.910000 %\n",
      "epoch 260, minibatch 2500/2500, validation error 1.910000 %\n",
      "epoch 261, minibatch 2500/2500, validation error 1.910000 %\n",
      "epoch 262, minibatch 2500/2500, validation error 1.910000 %\n",
      "epoch 263, minibatch 2500/2500, validation error 1.910000 %\n",
      "epoch 264, minibatch 2500/2500, validation error 1.910000 %\n",
      "epoch 265, minibatch 2500/2500, validation error 1.910000 %\n",
      "epoch 266, minibatch 2500/2500, validation error 1.910000 %\n",
      "epoch 267, minibatch 2500/2500, validation error 1.910000 %\n",
      "epoch 268, minibatch 2500/2500, validation error 1.910000 %\n",
      "epoch 269, minibatch 2500/2500, validation error 1.910000 %\n",
      "epoch 270, minibatch 2500/2500, validation error 1.910000 %\n",
      "epoch 271, minibatch 2500/2500, validation error 1.910000 %\n",
      "epoch 272, minibatch 2500/2500, validation error 1.910000 %\n",
      "epoch 273, minibatch 2500/2500, validation error 1.910000 %\n",
      "epoch 274, minibatch 2500/2500, validation error 1.910000 %\n",
      "epoch 275, minibatch 2500/2500, validation error 1.910000 %\n",
      "epoch 276, minibatch 2500/2500, validation error 1.910000 %\n",
      "epoch 277, minibatch 2500/2500, validation error 1.910000 %\n",
      "epoch 278, minibatch 2500/2500, validation error 1.910000 %\n",
      "epoch 279, minibatch 2500/2500, validation error 1.900000 %\n",
      "     epoch 279, minibatch 2500/2500, test error of best model 2.030000 %\n",
      "epoch 280, minibatch 2500/2500, validation error 1.900000 %\n",
      "epoch 281, minibatch 2500/2500, validation error 1.900000 %\n",
      "epoch 282, minibatch 2500/2500, validation error 1.900000 %\n",
      "epoch 283, minibatch 2500/2500, validation error 1.890000 %\n",
      "     epoch 283, minibatch 2500/2500, test error of best model 2.030000 %\n",
      "epoch 284, minibatch 2500/2500, validation error 1.890000 %\n",
      "epoch 285, minibatch 2500/2500, validation error 1.890000 %\n",
      "epoch 286, minibatch 2500/2500, validation error 1.890000 %\n",
      "epoch 287, minibatch 2500/2500, validation error 1.890000 %\n",
      "epoch 288, minibatch 2500/2500, validation error 1.890000 %\n",
      "epoch 289, minibatch 2500/2500, validation error 1.890000 %\n",
      "epoch 290, minibatch 2500/2500, validation error 1.890000 %\n",
      "epoch 291, minibatch 2500/2500, validation error 1.890000 %\n",
      "epoch 292, minibatch 2500/2500, validation error 1.890000 %\n",
      "epoch 293, minibatch 2500/2500, validation error 1.890000 %\n",
      "epoch 294, minibatch 2500/2500, validation error 1.890000 %\n",
      "epoch 295, minibatch 2500/2500, validation error 1.890000 %\n",
      "epoch 296, minibatch 2500/2500, validation error 1.890000 %\n",
      "epoch 297, minibatch 2500/2500, validation error 1.890000 %\n",
      "epoch 298, minibatch 2500/2500, validation error 1.890000 %\n",
      "epoch 299, minibatch 2500/2500, validation error 1.890000 %\n",
      "epoch 300, minibatch 2500/2500, validation error 1.890000 %\n",
      "Optimization complete. Best validation score of 1.890000 % obtained at iteration 707500, with test performance 2.030000 %\n"
     ]
    }
   ],
   "source": [
    "from learning_mlp import test_mlp\n",
    "\n",
    "test_mlp()"
   ]
  },
  {
   "cell_type": "markdown",
   "metadata": {},
   "source": [
    "# Отчёт"
   ]
  },
  {
   "cell_type": "markdown",
   "metadata": {},
   "source": [
    "Я построю свой отчет на основе рекомендуемого порядка...\n",
    "\n",
    "**Рекомендуемый порядок:**\n",
    "\n",
    "* Адаптировать логистическую регрессию на класификацию 1 цифры против всех (например, нулей против ненулей)\n",
    "\n",
    "**Злостно отброшено всторону впользу второго шага**\n",
    "* Обобщить логистическую регрессию до многоклассовой.\n",
    "  - для этого придётся вспомнить первую лекцию или загуглить.\n",
    "  \n",
    "**Пришлось загуглить и удачно попасть на http://deeplearning.net/tutorial/logreg.html. Я все аккуратно прочитала и украла огромный кусок кода, от которого получила нереально удовольствие (люблю, когда существуют классы, и вообще структура в коде, поэтому раздербанила все по файлам (у каждого класса свой) и положила в шкатулку**)\n",
    "\n",
    "  - вместо одного вектора весов у вас будет матрица (признак, класс)\n",
    "  - softmax (экспонента на сумму экспонент) можно сделать самому, а можно - T.nnet.softmax (стабильная)\n",
    "  \n",
    "**Использовала T.nnet.softmax**\n",
    "\n",
    "  - Лучше использовать стохастический градиентный спуск (минибатчевый)\n",
    "\n",
    "**В моем случае batch_size=600, лучше не спрашивать почему 600, я серьезно задалась этим вопросом, прочитав 3-4 статьи, потом подумала, что не все сразу и перестала думать**\n",
    "\n",
    "   - в котором случае выборку желательно перемешать (ну или брать случайный набор примеров на каждой итерации обучения)\n",
    "   \n",
    "**Это не реализованно**\n",
    "\n",
    "* Добавить скрытый слой. Теперь ваша логистическая регрессия опирается на нейроны, а не на входы. \n",
    "\n",
    "**Тут я пользовалась http://deeplearning.net/tutorial/mlp.html. Опять же, восхищаюсь этим пособием, \n",
    "к примеру как лаконично тут отображается вышеописанное требование \"Теперь ваша логистическая регрессия опирается на нейроны, а не на входы\":**\n",
    "\n",
    "        self.hiddenLayer = HiddenLayer(\n",
    "            rng=rng,\n",
    "            input=input,\n",
    "            n_in=n_in,\n",
    "            n_out=n_hidden,\n",
    "            activation=T.tanh\n",
    "        )\n",
    "\n",
    "        self.logRegressionLayer = LogisticRegression(\n",
    "            input=self.hiddenLayer.output,\n",
    "            n_in=n_hidden,\n",
    "            n_out=n_out\n",
    "\n",
    "  - Принцип работы первого слоя - такой же, как у выходного, но вместо softmax у него другая нелинейность. \n",
    "  - нужно обучать оба слоя, а не только выходной :)\n",
    "  \n",
    " ** :) **\n",
    " \n",
    "  - важно не инициализировать веса нулями из-за эффекта симметрии. Для начала - случайный нормальный шум с маленькой \"сигмой\".\n",
    "  \n",
    "**В мое случае вышло вот так, но если честно, я не поняла, что за эффект такой, т.е. интуитивно понятно, а глубину не улавливаю. На deeplearning.net \"This initialization ensures that, early in training, each neuron operates in a regime of its activation function where information can easily be propagated both upward (activations flowing from inputs to outputs) and backward (gradients flowing from outputs to inputs).\" еще больше запутывает**\n",
    "\n",
    "  W_values = numpy.asarray(\n",
    "                rng.uniform(\n",
    "                    low=-numpy.sqrt(6. / (n_in + n_out)),\n",
    "                    high=numpy.sqrt(6. / (n_in + n_out)),\n",
    "                    size=(n_in, n_out)\n",
    "                ),\n",
    "                dtype=theano.config.floatX\n",
    "            )\n",
    "\n",
    "  - Начать рекоммендую с 50 нейронов и сигмоиды, ибо так труднее прострелить себе ногу.\n",
    "  \n",
    "**Опять же, по наводке deeplearning.net взяла tanh \"because it typically yields to faster training (and sometimes also to better local minima), но не поняла почему так\"\n",
    "\n",
    "  - В идеале у вас будет 2 .dot-а, 1 sigmoid и 1 softmax. \n",
    "  - __Убедитесь, что такая нейронка выучивается лучше, чем логистическая регрессия__\n",
    "  \n",
    "**О да, \"best validation score of 1.890000 %, with test performance 2.030000 %\" против \"best validation score of 7.500000 %, with test performance 7.489583 %\", однако я не использовала регуляризацию**\n",
    "  \n",
    "* Теперь время подумать над тем, как улучшить результат. Слои, нейроны, нелинейности, методы оптимизации, инициализация - всё, что хотите, разве что я бы попросил в качестве челленджа обойтись пока без свёрток.\n",
    "\n",
    "**Дальше наверное CNN, да и на записи семинара это упоминалось. Но я на столько упоролась в то, что тут есть... В общем, мне и так хватило. Я еще какое-то время пыталась все это переписать на вариант, когда картинка хранится в формате 28x28, а не 784x1. Потратила часа 3-4,гоняясь за багами о несовпадении типов, и сдалась. Очень глупо вышло, но на первый взгляд theano-либа не богата понятными сообщениями**"
   ]
  },
  {
   "cell_type": "markdown",
   "metadata": {
    "collapsed": true
   },
   "source": [
    "```\n",
    "\n",
    "```\n",
    "\n",
    "```\n",
    "\n",
    "```\n",
    "\n",
    "```\n",
    "\n",
    "```\n",
    "\n",
    "```\n",
    "\n",
    "```\n",
    "\n",
    "```\n",
    "\n",
    "```\n",
    "\n",
    "```\n",
    "\n",
    "```\n",
    "\n",
    "```\n",
    "\n",
    "```\n",
    "\n",
    "```\n",
    "\n",
    "```\n",
    "\n",
    "\n",
    "# SPOILERS!\n",
    "\n",
    "Рекомендуемый порядок:\n",
    "\n",
    "* Адаптировать логистическую регрессию на класиффикацию 1 цифры против всех (например, нулей против ненулей)\n",
    "* Обобщить логистическую регрессию до многоклассовой.\n",
    "  - для этого придётся вспомнить первую лекцию или загуглить.\n",
    "  - вместо одного вектора весов у вас будет матрица (признак, класс)\n",
    "  - softmax (экспонента на сумму экспонент) можно сделать самому, а можно - T.nnet.softmax (стабильная)\n",
    "  - Лучше использовать стохастический градиентный спуск (минибатчевый)\n",
    "   - в котором случае выборку желательно перемешать (ну или брать случайный набор примеров на каждой итерации обучения)\n",
    "* Добавить скрытый слой. Теперь ваша логистическая регрессия опирается на нейроны, а не на входы. \n",
    "  - Принцип работы первого слоя - такой же, как у выходного, но вместо softmax у него другая нелинейность. \n",
    "  - нужно обучать оба слоя, а не только выходной :)\n",
    "  - важно не инициализировать веса нулями из-за эффекта симметрии. Для начала - случайный нормальный шум с маленькой \"сигмой\".\n",
    "  - Начать рекоммендую с 50 нейронов и сигмоиды, ибо так труднее прострелить себе ногу. \n",
    "  - В идеале у вас будет 2 .dot-а, 1 sigmoid и 1 softmax. \n",
    "  - __Убедитесь, что такая нейронка выучивается лучше, чем логистическая регрессия__\n",
    "  \n",
    "* Теперь время подумать над тем, как улучшить результат. Слои, нейроны, нелинейности, методы оптимизации, инициализация - всё, что хотите, разве что я бы попросил в качестве челленджа обойтись пока без свёрток.\n",
    "  "
   ]
  },
  {
   "cell_type": "code",
   "execution_count": null,
   "metadata": {
    "collapsed": true
   },
   "outputs": [],
   "source": []
  }
 ],
 "metadata": {
  "anaconda-cloud": {},
  "kernelspec": {
   "display_name": "Python [Root]",
   "language": "python",
   "name": "Python [Root]"
  },
  "language_info": {
   "codemirror_mode": {
    "name": "ipython",
    "version": 2
   },
   "file_extension": ".py",
   "mimetype": "text/x-python",
   "name": "python",
   "nbconvert_exporter": "python",
   "pygments_lexer": "ipython2",
   "version": "2.7.12"
  }
 },
 "nbformat": 4,
 "nbformat_minor": 0
}
